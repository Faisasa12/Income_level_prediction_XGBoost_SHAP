{
 "cells": [
  {
   "cell_type": "markdown",
   "id": "9bae2d42",
   "metadata": {},
   "source": [
    "# Process the Data\n",
    "Now that I have explored the data, I want to process it to prepare it for training\n",
    "\n",
    "---\n",
    "## Imports"
   ]
  },
  {
   "cell_type": "code",
   "execution_count": 1,
   "id": "c8e8673c",
   "metadata": {},
   "outputs": [],
   "source": [
    "import pandas as pd\n",
    "import seaborn as sb\n",
    "import matplotlib.pyplot as plt\n",
    "import numpy as np\n",
    "from sklearn.model_selection import train_test_split"
   ]
  },
  {
   "cell_type": "markdown",
   "id": "62b9ff18",
   "metadata": {},
   "source": [
    "---\n",
    "## Load the Data"
   ]
  },
  {
   "cell_type": "code",
   "execution_count": 2,
   "id": "2cd6ff50",
   "metadata": {},
   "outputs": [],
   "source": [
    "dataset = pd.read_csv(\"../data/adult_raw.csv\")"
   ]
  },
  {
   "cell_type": "markdown",
   "id": "039e0a28",
   "metadata": {},
   "source": [
    "### Prepare Columns, Replace **?** with **NaN**"
   ]
  },
  {
   "cell_type": "code",
   "execution_count": 3,
   "id": "cc294383",
   "metadata": {},
   "outputs": [],
   "source": [
    "dataset.columns = [col.replace(\".\",'_') for col in dataset.columns]\n",
    "dataset.replace('?', np.nan, inplace=True)"
   ]
  },
  {
   "cell_type": "markdown",
   "id": "88f1f1a6",
   "metadata": {},
   "source": [
    "### Remove Records that Contain NaN"
   ]
  },
  {
   "cell_type": "code",
   "execution_count": 4,
   "id": "9aa2ded5",
   "metadata": {},
   "outputs": [],
   "source": [
    "dataset.dropna(inplace=True)"
   ]
  },
  {
   "cell_type": "markdown",
   "id": "629ea07d",
   "metadata": {},
   "source": [
    "### Divide Data Into Features and Target\n",
    "I am doing this before the encoding because I do not want the target to get encoded as well"
   ]
  },
  {
   "cell_type": "code",
   "execution_count": 5,
   "id": "9d4ee196",
   "metadata": {},
   "outputs": [],
   "source": [
    "features = dataset.drop('income', axis=1)\n",
    "target = dataset['income']"
   ]
  },
  {
   "cell_type": "markdown",
   "id": "fe706d4d",
   "metadata": {},
   "source": [
    "### One-Hot Encode Categorical features"
   ]
  },
  {
   "cell_type": "code",
   "execution_count": 6,
   "id": "dfeb2c28",
   "metadata": {},
   "outputs": [],
   "source": [
    "features = pd.get_dummies(features)\n",
    "target = target.map({\n",
    "    '<=50K': 0,\n",
    "    '>50K': 1\n",
    "})"
   ]
  },
  {
   "cell_type": "markdown",
   "id": "48856500",
   "metadata": {},
   "source": [
    "### Get the Train Test Split"
   ]
  },
  {
   "cell_type": "code",
   "execution_count": 7,
   "id": "1b148e74",
   "metadata": {},
   "outputs": [],
   "source": [
    "x_train, x_test, y_train, y_test = train_test_split(features, target, test_size = 0.2, stratify = target)"
   ]
  },
  {
   "cell_type": "markdown",
   "id": "412303a9",
   "metadata": {},
   "source": [
    "### All Preprocessing Steps in One Function"
   ]
  },
  {
   "cell_type": "code",
   "execution_count": 8,
   "id": "282d74bb",
   "metadata": {},
   "outputs": [],
   "source": [
    "def train_test_from_raw_data(dataset):\n",
    "    dataset.columns = [col.replace(\".\",'_') for col in dataset.columns]\n",
    "    dataset.replace('?', np.nan, inplace=True) \n",
    "    \n",
    "    dataset.dropna(inplace=True)\n",
    "    \n",
    "    features = dataset.drop('income', axis=1)\n",
    "    target = dataset['income']\n",
    "    \n",
    "    features = pd.get_dummies(features)\n",
    "    target = target.map({\n",
    "        '<=50K': 0,\n",
    "        '>50K': 1\n",
    "    })\n",
    "    \n",
    "    return train_test_split(features, target, test_size = 0.2, stratify = target)\n",
    "    \n",
    "    "
   ]
  },
  {
   "cell_type": "markdown",
   "id": "946b170f",
   "metadata": {},
   "source": [
    "## Conclusions\n",
    "\n",
    "The steps that I should take to process data are the following:\n",
    "\n",
    "- Replace **.** in columns to **_**\n",
    "- Replace **?** to **NaN**\n",
    "- Drop records with **NaN**\n",
    "- Divide dataset into features and target\n",
    "- Encode the features and target\n",
    "- Get the training and testing set while making sure that the distribution of target is balanced"
   ]
  },
  {
   "cell_type": "code",
   "execution_count": null,
   "id": "11b1459c",
   "metadata": {},
   "outputs": [],
   "source": []
  }
 ],
 "metadata": {
  "kernelspec": {
   "display_name": "base",
   "language": "python",
   "name": "python3"
  },
  "language_info": {
   "codemirror_mode": {
    "name": "ipython",
    "version": 3
   },
   "file_extension": ".py",
   "mimetype": "text/x-python",
   "name": "python",
   "nbconvert_exporter": "python",
   "pygments_lexer": "ipython3",
   "version": "3.13.5"
  }
 },
 "nbformat": 4,
 "nbformat_minor": 5
}
